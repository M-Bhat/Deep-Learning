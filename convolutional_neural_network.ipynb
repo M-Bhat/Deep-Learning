{
 "cells": [
  {
   "cell_type": "markdown",
   "metadata": {
    "colab_type": "text",
    "id": "3DR-eO17geWu"
   },
   "source": [
    "# Convolutional Neural Network"
   ]
  },
  {
   "cell_type": "markdown",
   "metadata": {
    "colab_type": "text",
    "id": "EMefrVPCg-60"
   },
   "source": [
    "### Importing the libraries"
   ]
  },
  {
   "cell_type": "code",
   "execution_count": 1,
   "metadata": {
    "colab": {},
    "colab_type": "code",
    "id": "sCV30xyVhFbE"
   },
   "outputs": [
    {
     "name": "stderr",
     "output_type": "stream",
     "text": [
      "2023-08-23 16:05:13.784867: I tensorflow/tsl/cuda/cudart_stub.cc:28] Could not find cuda drivers on your machine, GPU will not be used.\n",
      "2023-08-23 16:05:13.895225: I tensorflow/tsl/cuda/cudart_stub.cc:28] Could not find cuda drivers on your machine, GPU will not be used.\n",
      "2023-08-23 16:05:13.896223: I tensorflow/core/platform/cpu_feature_guard.cc:182] This TensorFlow binary is optimized to use available CPU instructions in performance-critical operations.\n",
      "To enable the following instructions: AVX2 FMA, in other operations, rebuild TensorFlow with the appropriate compiler flags.\n",
      "2023-08-23 16:05:27.738956: W tensorflow/compiler/tf2tensorrt/utils/py_utils.cc:38] TF-TRT Warning: Could not find TensorRT\n"
     ]
    }
   ],
   "source": [
    "import tensorflow as tf\n",
    "from keras.preprocessing.image import ImageDataGenerator"
   ]
  },
  {
   "cell_type": "code",
   "execution_count": 2,
   "metadata": {
    "colab": {},
    "colab_type": "code",
    "id": "FIleuCAjoFD8"
   },
   "outputs": [
    {
     "data": {
      "text/plain": [
       "'2.13.0'"
      ]
     },
     "execution_count": 2,
     "metadata": {},
     "output_type": "execute_result"
    }
   ],
   "source": [
    "tf.__version__"
   ]
  },
  {
   "cell_type": "markdown",
   "metadata": {
    "colab_type": "text",
    "id": "oxQxCBWyoGPE"
   },
   "source": [
    "## Part 1 - Data Preprocessing"
   ]
  },
  {
   "cell_type": "markdown",
   "metadata": {
    "colab_type": "text",
    "id": "MvE-heJNo3GG"
   },
   "source": [
    "### Preprocessing the Training set"
   ]
  },
  {
   "cell_type": "code",
   "execution_count": 3,
   "metadata": {
    "colab": {},
    "colab_type": "code",
    "id": "0koUcJMJpEBD"
   },
   "outputs": [
    {
     "name": "stdout",
     "output_type": "stream",
     "text": [
      "Found 8000 images belonging to 2 classes.\n"
     ]
    }
   ],
   "source": [
    "train_datagen = ImageDataGenerator(\n",
    "        rescale=1./255,\n",
    "        shear_range=0.2,\n",
    "        zoom_range=0.2,\n",
    "        horizontal_flip=True)\n",
    "training_set = train_datagen.flow_from_directory(\n",
    "        'dataset/training_set',\n",
    "        target_size=(64, 64),\n",
    "        batch_size=32,\n",
    "        class_mode='binary')"
   ]
  },
  {
   "cell_type": "markdown",
   "metadata": {
    "colab_type": "text",
    "id": "mrCMmGw9pHys"
   },
   "source": [
    "### Preprocessing the Test set"
   ]
  },
  {
   "cell_type": "code",
   "execution_count": 4,
   "metadata": {
    "colab": {},
    "colab_type": "code",
    "id": "SH4WzfOhpKc3"
   },
   "outputs": [
    {
     "name": "stdout",
     "output_type": "stream",
     "text": [
      "Found 8000 images belonging to 2 classes.\n"
     ]
    }
   ],
   "source": [
    "test_datagen = ImageDataGenerator(rescale = 1./255)\n",
    "test_set = test_datagen.flow_from_directory(\n",
    "        'dataset/training_set',\n",
    "        target_size=(64, 64),\n",
    "        batch_size=32,\n",
    "        class_mode='binary')"
   ]
  },
  {
   "cell_type": "markdown",
   "metadata": {
    "colab_type": "text",
    "id": "af8O4l90gk7B"
   },
   "source": [
    "## Part 2 - Building the CNN"
   ]
  },
  {
   "cell_type": "markdown",
   "metadata": {
    "colab_type": "text",
    "id": "ces1gXY2lmoX"
   },
   "source": [
    "### Initialising the CNN"
   ]
  },
  {
   "cell_type": "code",
   "execution_count": 5,
   "metadata": {
    "colab": {},
    "colab_type": "code",
    "id": "SAUt4UMPlhLS"
   },
   "outputs": [],
   "source": [
    "cnn = tf.keras.models.Sequential()\n"
   ]
  },
  {
   "cell_type": "markdown",
   "metadata": {
    "colab_type": "text",
    "id": "u5YJj_XMl5LF"
   },
   "source": [
    "### Step 1 - Convolution"
   ]
  },
  {
   "cell_type": "code",
   "execution_count": 6,
   "metadata": {
    "colab": {},
    "colab_type": "code",
    "id": "XPzPrMckl-hV"
   },
   "outputs": [],
   "source": [
    "cnn.add(tf.keras.layers.Conv2D(filters=32, kernel_size=3, activation='relu',input_shape=[64,64,3]))"
   ]
  },
  {
   "cell_type": "markdown",
   "metadata": {
    "colab_type": "text",
    "id": "tf87FpvxmNOJ"
   },
   "source": [
    "### Step 2 - Pooling"
   ]
  },
  {
   "cell_type": "code",
   "execution_count": 7,
   "metadata": {
    "colab": {},
    "colab_type": "code",
    "id": "ncpqPl69mOac"
   },
   "outputs": [],
   "source": [
    "cnn.add(tf.keras.layers.MaxPool2D(pool_size=2, strides=2))"
   ]
  },
  {
   "cell_type": "markdown",
   "metadata": {
    "colab_type": "text",
    "id": "xaTOgD8rm4mU"
   },
   "source": [
    "### Adding a second convolutional layer"
   ]
  },
  {
   "cell_type": "code",
   "execution_count": 8,
   "metadata": {
    "colab": {},
    "colab_type": "code",
    "id": "i_-FZjn_m8gk"
   },
   "outputs": [],
   "source": [
    "cnn.add(tf.keras.layers.Conv2D(filters=32, kernel_size=3, activation='relu'))\n",
    "cnn.add(tf.keras.layers.MaxPool2D(pool_size=2, strides=2))"
   ]
  },
  {
   "cell_type": "markdown",
   "metadata": {
    "colab_type": "text",
    "id": "tmiEuvTunKfk"
   },
   "source": [
    "### Step 3 - Flattening"
   ]
  },
  {
   "cell_type": "code",
   "execution_count": 9,
   "metadata": {
    "colab": {},
    "colab_type": "code",
    "id": "6AZeOGCvnNZn"
   },
   "outputs": [],
   "source": [
    "cnn.add(tf.keras.layers.Flatten())"
   ]
  },
  {
   "cell_type": "markdown",
   "metadata": {
    "colab_type": "text",
    "id": "dAoSECOm203v"
   },
   "source": [
    "### Step 4 - Full Connection"
   ]
  },
  {
   "cell_type": "code",
   "execution_count": 10,
   "metadata": {
    "colab": {},
    "colab_type": "code",
    "id": "8GtmUlLd26Nq"
   },
   "outputs": [],
   "source": [
    "cnn.add(tf.keras.layers.Dense(units=128,activation='relu'))"
   ]
  },
  {
   "cell_type": "markdown",
   "metadata": {
    "colab_type": "text",
    "id": "yTldFvbX28Na"
   },
   "source": [
    "### Step 5 - Output Layer"
   ]
  },
  {
   "cell_type": "code",
   "execution_count": 11,
   "metadata": {
    "colab": {},
    "colab_type": "code",
    "id": "1p_Zj1Mc3Ko_"
   },
   "outputs": [],
   "source": [
    "cnn.add(tf.keras.layers.Dense(units=1,activation='sigmoid'))"
   ]
  },
  {
   "cell_type": "markdown",
   "metadata": {
    "colab_type": "text",
    "id": "D6XkI90snSDl"
   },
   "source": [
    "## Part 3 - Training the CNN"
   ]
  },
  {
   "cell_type": "markdown",
   "metadata": {
    "colab_type": "text",
    "id": "vfrFQACEnc6i"
   },
   "source": [
    "### Compiling the CNN"
   ]
  },
  {
   "cell_type": "code",
   "execution_count": 12,
   "metadata": {
    "colab": {},
    "colab_type": "code",
    "id": "NALksrNQpUlJ"
   },
   "outputs": [],
   "source": [
    "cnn.compile(optimizer = 'adam', loss = 'binary_crossentropy', metrics = ['accuracy'])"
   ]
  },
  {
   "cell_type": "markdown",
   "metadata": {
    "colab_type": "text",
    "id": "ehS-v3MIpX2h"
   },
   "source": [
    "### Training the CNN on the Training set and evaluating it on the Test set"
   ]
  },
  {
   "cell_type": "code",
   "execution_count": 13,
   "metadata": {
    "colab": {},
    "colab_type": "code",
    "id": "XUj1W4PJptta"
   },
   "outputs": [
    {
     "name": "stdout",
     "output_type": "stream",
     "text": [
      "Epoch 1/25\n",
      "250/250 [==============================] - 189s 749ms/step - loss: 0.6652 - accuracy: 0.5886 - val_loss: 0.5893 - val_accuracy: 0.6756\n",
      "Epoch 2/25\n",
      "250/250 [==============================] - 63s 254ms/step - loss: 0.5949 - accuracy: 0.6795 - val_loss: 0.5942 - val_accuracy: 0.6866\n",
      "Epoch 3/25\n",
      "250/250 [==============================] - 65s 260ms/step - loss: 0.5463 - accuracy: 0.7247 - val_loss: 0.5145 - val_accuracy: 0.7491\n",
      "Epoch 4/25\n",
      "250/250 [==============================] - 64s 255ms/step - loss: 0.5173 - accuracy: 0.7414 - val_loss: 0.4681 - val_accuracy: 0.7763\n",
      "Epoch 5/25\n",
      "250/250 [==============================] - 64s 257ms/step - loss: 0.4870 - accuracy: 0.7626 - val_loss: 0.4695 - val_accuracy: 0.7770\n",
      "Epoch 6/25\n",
      "250/250 [==============================] - 162s 646ms/step - loss: 0.4650 - accuracy: 0.7765 - val_loss: 0.4897 - val_accuracy: 0.7678\n",
      "Epoch 7/25\n",
      "250/250 [==============================] - 64s 255ms/step - loss: 0.4495 - accuracy: 0.7847 - val_loss: 0.3975 - val_accuracy: 0.8149\n",
      "Epoch 8/25\n",
      "250/250 [==============================] - 67s 268ms/step - loss: 0.4388 - accuracy: 0.7914 - val_loss: 0.3888 - val_accuracy: 0.8215\n",
      "Epoch 9/25\n",
      "250/250 [==============================] - 66s 263ms/step - loss: 0.4243 - accuracy: 0.8025 - val_loss: 0.3442 - val_accuracy: 0.8490\n",
      "Epoch 10/25\n",
      "250/250 [==============================] - 66s 262ms/step - loss: 0.4017 - accuracy: 0.8139 - val_loss: 0.3764 - val_accuracy: 0.8246\n",
      "Epoch 11/25\n",
      "250/250 [==============================] - 66s 264ms/step - loss: 0.3888 - accuracy: 0.8238 - val_loss: 0.3326 - val_accuracy: 0.8579\n",
      "Epoch 12/25\n",
      "250/250 [==============================] - 66s 264ms/step - loss: 0.3820 - accuracy: 0.8271 - val_loss: 0.3526 - val_accuracy: 0.8429\n",
      "Epoch 13/25\n",
      "250/250 [==============================] - 70s 281ms/step - loss: 0.3597 - accuracy: 0.8404 - val_loss: 0.2969 - val_accuracy: 0.8759\n",
      "Epoch 14/25\n",
      "250/250 [==============================] - 73s 291ms/step - loss: 0.3477 - accuracy: 0.8464 - val_loss: 0.2958 - val_accuracy: 0.8717\n",
      "Epoch 15/25\n",
      "250/250 [==============================] - 73s 292ms/step - loss: 0.3325 - accuracy: 0.8535 - val_loss: 0.2714 - val_accuracy: 0.8861\n",
      "Epoch 16/25\n",
      "250/250 [==============================] - 74s 295ms/step - loss: 0.3245 - accuracy: 0.8561 - val_loss: 0.2514 - val_accuracy: 0.8974\n",
      "Epoch 17/25\n",
      "250/250 [==============================] - 192s 769ms/step - loss: 0.3125 - accuracy: 0.8639 - val_loss: 0.2460 - val_accuracy: 0.8988\n",
      "Epoch 18/25\n",
      "250/250 [==============================] - 68s 273ms/step - loss: 0.2941 - accuracy: 0.8758 - val_loss: 0.2191 - val_accuracy: 0.9131\n",
      "Epoch 19/25\n",
      "250/250 [==============================] - 68s 272ms/step - loss: 0.2794 - accuracy: 0.8834 - val_loss: 0.2129 - val_accuracy: 0.9179\n",
      "Epoch 20/25\n",
      "250/250 [==============================] - 72s 286ms/step - loss: 0.2704 - accuracy: 0.8873 - val_loss: 0.2087 - val_accuracy: 0.9169\n",
      "Epoch 21/25\n",
      "250/250 [==============================] - 68s 273ms/step - loss: 0.2501 - accuracy: 0.8934 - val_loss: 0.2065 - val_accuracy: 0.9155\n",
      "Epoch 22/25\n",
      "250/250 [==============================] - 66s 265ms/step - loss: 0.2385 - accuracy: 0.9025 - val_loss: 0.1743 - val_accuracy: 0.9308\n",
      "Epoch 23/25\n",
      "250/250 [==============================] - 67s 270ms/step - loss: 0.2282 - accuracy: 0.9031 - val_loss: 0.2165 - val_accuracy: 0.9068\n",
      "Epoch 24/25\n",
      "250/250 [==============================] - 65s 261ms/step - loss: 0.2288 - accuracy: 0.9038 - val_loss: 0.1682 - val_accuracy: 0.9344\n",
      "Epoch 25/25\n",
      "250/250 [==============================] - 65s 260ms/step - loss: 0.2049 - accuracy: 0.9169 - val_loss: 0.1702 - val_accuracy: 0.9323\n"
     ]
    },
    {
     "data": {
      "text/plain": [
       "<keras.src.callbacks.History at 0x7fab7c4be4d0>"
      ]
     },
     "execution_count": 13,
     "metadata": {},
     "output_type": "execute_result"
    }
   ],
   "source": [
    "cnn.fit(x = training_set, validation_data = test_set, epochs = 25)"
   ]
  },
  {
   "cell_type": "markdown",
   "metadata": {
    "colab_type": "text",
    "id": "U3PZasO0006Z"
   },
   "source": [
    "## Part 4 - Making a single prediction"
   ]
  },
  {
   "cell_type": "code",
   "execution_count": 24,
   "metadata": {
    "colab": {},
    "colab_type": "code",
    "id": "gsSiWEJY1BPB"
   },
   "outputs": [
    {
     "name": "stdout",
     "output_type": "stream",
     "text": [
      "1/1 [==============================] - 0s 31ms/step\n"
     ]
    }
   ],
   "source": [
    "import numpy as np\n",
    "from keras.utils import load_img, img_to_array\n",
    "test_image = load_img('dataset/single_prediction/cat_or_dog_1.jpg', target_size = (64, 64))\n",
    "test_image = img_to_array(test_image)\n",
    "test_image = np.expand_dims(test_image, axis = 0)\n",
    "result = cnn.predict(test_image)\n",
    "training_set.class_indices\n",
    "if result[0][0] == 1:\n",
    "  prediction = 'dog'\n",
    "else:\n",
    "  prediction = 'cat'"
   ]
  },
  {
   "cell_type": "code",
   "execution_count": 25,
   "metadata": {
    "colab": {},
    "colab_type": "code",
    "id": "ED9KB3I54c1i"
   },
   "outputs": [
    {
     "name": "stdout",
     "output_type": "stream",
     "text": [
      "dog\n"
     ]
    }
   ],
   "source": [
    "print(prediction)"
   ]
  },
  {
   "cell_type": "code",
   "execution_count": null,
   "metadata": {},
   "outputs": [],
   "source": []
  }
 ],
 "metadata": {
  "colab": {
   "collapsed_sections": [],
   "name": "convolutional_neural_network.ipynb",
   "provenance": [],
   "toc_visible": true
  },
  "kernelspec": {
   "display_name": "Python 3 (ipykernel)",
   "language": "python",
   "name": "python3"
  },
  "language_info": {
   "codemirror_mode": {
    "name": "ipython",
    "version": 3
   },
   "file_extension": ".py",
   "mimetype": "text/x-python",
   "name": "python",
   "nbconvert_exporter": "python",
   "pygments_lexer": "ipython3",
   "version": "3.10.12"
  }
 },
 "nbformat": 4,
 "nbformat_minor": 1
}
